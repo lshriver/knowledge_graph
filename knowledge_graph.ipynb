{
 "cells": [
  {
   "cell_type": "code",
   "execution_count": 6,
   "metadata": {},
   "outputs": [
    {
     "ename": "ModuleNotFoundError",
     "evalue": "No module named 'spacy_transformers'",
     "output_type": "error",
     "traceback": [
      "\u001b[0;31m---------------------------------------------------------------------------\u001b[0m",
      "\u001b[0;31mModuleNotFoundError\u001b[0m                       Traceback (most recent call last)",
      "\u001b[1;32m/workspaces/knowledge_graph/knowledge_graph.ipynb Cell 1\u001b[0m line \u001b[0;36m5\n\u001b[1;32m      <a href='vscode-notebook-cell://codespaces%2Burban-winner-jjqqjp4p9jg53j5x5/workspaces/knowledge_graph/knowledge_graph.ipynb#W0sdnNjb2RlLXJlbW90ZQ%3D%3D?line=2'>3</a>\u001b[0m \u001b[39mimport\u001b[39;00m \u001b[39mrequests\u001b[39;00m\n\u001b[1;32m      <a href='vscode-notebook-cell://codespaces%2Burban-winner-jjqqjp4p9jg53j5x5/workspaces/knowledge_graph/knowledge_graph.ipynb#W0sdnNjb2RlLXJlbW90ZQ%3D%3D?line=3'>4</a>\u001b[0m \u001b[39mimport\u001b[39;00m \u001b[39mspacy\u001b[39;00m\n\u001b[0;32m----> <a href='vscode-notebook-cell://codespaces%2Burban-winner-jjqqjp4p9jg53j5x5/workspaces/knowledge_graph/knowledge_graph.ipynb#W0sdnNjb2RlLXJlbW90ZQ%3D%3D?line=4'>5</a>\u001b[0m \u001b[39mimport\u001b[39;00m \u001b[39mspacy_transformers\u001b[39;00m\n\u001b[1;32m      <a href='vscode-notebook-cell://codespaces%2Burban-winner-jjqqjp4p9jg53j5x5/workspaces/knowledge_graph/knowledge_graph.ipynb#W0sdnNjb2RlLXJlbW90ZQ%3D%3D?line=5'>6</a>\u001b[0m \u001b[39mfrom\u001b[39;00m \u001b[39mspacy\u001b[39;00m \u001b[39mimport\u001b[39;00m displacy\n\u001b[1;32m      <a href='vscode-notebook-cell://codespaces%2Burban-winner-jjqqjp4p9jg53j5x5/workspaces/knowledge_graph/knowledge_graph.ipynb#W0sdnNjb2RlLXJlbW90ZQ%3D%3D?line=6'>7</a>\u001b[0m \u001b[39mfrom\u001b[39;00m \u001b[39mspacy\u001b[39;00m\u001b[39m.\u001b[39;00m\u001b[39mmatcher\u001b[39;00m \u001b[39mimport\u001b[39;00m Matcher\n",
      "\u001b[0;31mModuleNotFoundError\u001b[0m: No module named 'spacy_transformers'"
     ]
    }
   ],
   "source": [
    "import wikipedia as wp \n",
    "import re\n",
    "import requests\n",
    "import spacy\n",
    "import spacy_transformers\n",
    "from spacy import displacy\n",
    "from spacy.matcher import Matcher\n",
    "import networkx as nx\n",
    "from pyvis.network import Network"
   ]
  }
 ],
 "metadata": {
  "language_info": {
   "name": "python"
  }
 },
 "nbformat": 4,
 "nbformat_minor": 2
}
